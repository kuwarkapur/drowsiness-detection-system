{
  "nbformat": 4,
  "nbformat_minor": 0,
  "metadata": {
    "colab": {
      "name": "drowsiness_detection.ipynb",
      "provenance": [],
      "collapsed_sections": []
    },
    "kernelspec": {
      "name": "python3",
      "display_name": "Python 3"
    },
    "language_info": {
      "name": "python"
    },
    "accelerator": "GPU"
  },
  "cells": [
    {
      "cell_type": "code",
      "metadata": {
        "colab": {
          "base_uri": "https://localhost:8080/"
        },
        "id": "x6aCbPjJN1sq",
        "outputId": "bfe4ba3c-b2e3-4211-af81-81a6e006a5e6"
      },
      "source": [
        "!wget http://mrl.cs.vsb.cz/data/eyedataset/mrlEyes_2018_01.zip"
      ],
      "execution_count": null,
      "outputs": [
        {
          "output_type": "stream",
          "name": "stdout",
          "text": [
            "--2021-10-01 09:38:30--  http://mrl.cs.vsb.cz/data/eyedataset/mrlEyes_2018_01.zip\n",
            "Resolving mrl.cs.vsb.cz (mrl.cs.vsb.cz)... 158.196.141.22\n",
            "Connecting to mrl.cs.vsb.cz (mrl.cs.vsb.cz)|158.196.141.22|:80... connected.\n",
            "HTTP request sent, awaiting response... 200 OK\n",
            "Length: 341866898 (326M) [application/zip]\n",
            "Saving to: ‘mrlEyes_2018_01.zip’\n",
            "\n",
            "mrlEyes_2018_01.zip 100%[===================>] 326.03M  7.12MB/s    in 46s     \n",
            "\n",
            "2021-10-01 09:39:19 (7.15 MB/s) - ‘mrlEyes_2018_01.zip’ saved [341866898/341866898]\n",
            "\n"
          ]
        }
      ]
    },
    {
      "cell_type": "code",
      "metadata": {
        "colab": {
          "base_uri": "https://localhost:8080/"
        },
        "id": "9iZN2ZumBNFm",
        "outputId": "c3fa3ee4-78df-46b9-ca35-fa30a51e9eea"
      },
      "source": [
        "from google.colab import drive\n",
        "drive.mount('/content/drive')"
      ],
      "execution_count": null,
      "outputs": [
        {
          "output_type": "stream",
          "name": "stdout",
          "text": [
            "Mounted at /content/drive\n"
          ]
        }
      ]
    },
    {
      "cell_type": "code",
      "metadata": {
        "id": "lAzdtvpnOF7k"
      },
      "source": [
        "import zipfile\n",
        "zip=zipfile.ZipFile('drive/MyDrive/MRLeyes.zip')\n",
        "zip.extractall()\n",
        "zip.close()"
      ],
      "execution_count": null,
      "outputs": []
    },
    {
      "cell_type": "code",
      "metadata": {
        "id": "OqBkobVcOX48"
      },
      "source": [
        "import random\n",
        "import cv2 as cv\n",
        "from google.colab.patches import cv2_imshow"
      ],
      "execution_count": null,
      "outputs": []
    },
    {
      "cell_type": "code",
      "metadata": {
        "colab": {
          "base_uri": "https://localhost:8080/",
          "height": 277
        },
        "id": "s7Fg0GhPOyya",
        "outputId": "77c47228-a29e-4420-86ce-537c08384007"
      },
      "source": [
        "\n",
        "\n",
        "num=random.randint(1,37)\n",
        "print(num)\n",
        "num=str(num)\n",
        "dir='mrlEyes_2018_01'+'/'+'s000'+num+'/'+'s000'+num+'_0000'+num+'_0_0_0_0_0_0'+num+'.png'\n",
        "print(dir)\n",
        "img=cv.imread('/content/mrlEyes_2018_01/s0031/s0031_00035_1_0_0_0_1_02.png')  \n",
        "cv2_imshow(img)"
      ],
      "execution_count": null,
      "outputs": [
        {
          "output_type": "stream",
          "name": "stdout",
          "text": [
            "15\n",
            "mrlEyes_2018_01/s00015/s00015_000015_0_0_0_0_0_015.png\n"
          ]
        },
        {
          "output_type": "display_data",
          "data": {
            "image/png": "[encoded data removed]",
            "text/plain": [
              "<PIL.Image.Image image mode=RGB size=225x225 at 0x7F54E844E850>"
            ]
          },
          "metadata": {}
        }
      ]
    },
    {
      "cell_type": "code",
      "metadata": {
        "id": "MCyocRLYQzZd"
      },
      "source": [
        "import tensorflow as tf\n",
        "from tensorflow.keras.preprocessing import image_dataset_from_directory\n",
        "from tensorflow.keras.models import Sequential\n",
        "from tensorflow.keras.layers import Flatten,Dense,Conv2D,MaxPool2D"
      ],
      "execution_count": null,
      "outputs": []
    },
    {
      "cell_type": "code",
      "metadata": {
        "colab": {
          "base_uri": "https://localhost:8080/"
        },
        "id": "bsZ7cfbnSXEE",
        "outputId": "969d8777-18dc-4491-ca34-5fa0c530f35d"
      },
      "source": [
        "train=image_dataset_from_directory('MRLeyes',\n",
        "                                   label_mode='binary',\n",
        "                                   image_size=(224,224),\n",
        "                                   validation_split=0.2, \n",
        "                                   seed=42,\n",
        "                                   subset=\"training\"\n",
        "                                   )\n",
        "test=image_dataset_from_directory('MRLeyes',\n",
        "                                   label_mode='binary',\n",
        "                                   image_size=(224,224),\n",
        "                                   seed=42,\n",
        "                                   validation_split=0.2, \n",
        "                                   subset=\"validation\"\n",
        "                                   )"
      ],
      "execution_count": null,
      "outputs": [
        {
          "output_type": "stream",
          "name": "stdout",
          "text": [
            "Found 84898 files belonging to 2 classes.\n",
            "Using 67919 files for training.\n",
            "Found 84898 files belonging to 2 classes.\n",
            "Using 16979 files for validation.\n"
          ]
        }
      ]
    },
    {
      "cell_type": "code",
      "metadata": {
        "colab": {
          "base_uri": "https://localhost:8080/"
        },
        "id": "f9m7cyhLCfS3",
        "outputId": "d5a39847-6104-4ae4-cfdd-b720cc6faa52"
      },
      "source": [
        "train.class_names"
      ],
      "execution_count": null,
      "outputs": [
        {
          "output_type": "execute_result",
          "data": {
            "text/plain": [
              "['Close', 'Open']"
            ]
          },
          "metadata": {},
          "execution_count": 8
        }
      ]
    },
    {
      "cell_type": "code",
      "metadata": {
        "id": "D7abhgPuQ2OB",
        "colab": {
          "base_uri": "https://localhost:8080/"
        },
        "outputId": "61ce80d8-f061-45d2-a2f6-b1428fe56729"
      },
      "source": [
        "model_0=Sequential([\n",
        "    Conv2D(16,3,activation='relu',input_shape=(224,224,3)),\n",
        "    MaxPool2D(),\n",
        "    Conv2D(32,3,activation='relu'),\n",
        "    MaxPool2D(),\n",
        "    Conv2D(32,3,activation='relu'),\n",
        "    MaxPool2D(),\n",
        "    Conv2D(64,3,activation='relu'),\n",
        "    MaxPool2D(),\n",
        "\n",
        "\n",
        "    Flatten(),\n",
        "    Dense(64,activation='relu'),\n",
        "    Dense(1,activation='sigmoid')\n",
        "])\n",
        "\n",
        "model_0.compile(loss=tf.keras.losses.BinaryCrossentropy(),\n",
        "                optimizer=tf.keras.optimizers.Adam(),\n",
        "                metrics='accuracy')\n",
        "\n",
        "model_0.fit(train,\n",
        "            epochs=5,\n",
        "            steps_per_epoch=len(train),\n",
        "            validation_data=test,\n",
        "            validation_steps=len(test))\n",
        "\n",
        "model_0.save('drowsiness.h5')"
      ],
      "execution_count": null,
      "outputs": [
        {
          "output_type": "stream",
          "name": "stdout",
          "text": [
            "Epoch 1/5\n",
            "2123/2123 [==============================] - 152s 71ms/step - loss: 0.2267 - accuracy: 0.9195 - val_loss: 0.1281 - val_accuracy: 0.9566\n",
            "Epoch 2/5\n",
            "2123/2123 [==============================] - 151s 71ms/step - loss: 0.1096 - accuracy: 0.9608 - val_loss: 0.1431 - val_accuracy: 0.9502\n",
            "Epoch 3/5\n",
            "2123/2123 [==============================] - 151s 71ms/step - loss: 0.0821 - accuracy: 0.9718 - val_loss: 0.0767 - val_accuracy: 0.9747\n",
            "Epoch 4/5\n",
            "2123/2123 [==============================] - 152s 71ms/step - loss: 0.0621 - accuracy: 0.9786 - val_loss: 0.0646 - val_accuracy: 0.9799\n",
            "Epoch 5/5\n",
            "2123/2123 [==============================] - 152s 71ms/step - loss: 0.0509 - accuracy: 0.9825 - val_loss: 0.0712 - val_accuracy: 0.9797\n"
          ]
        }
      ]
    },
    {
      "cell_type": "code",
      "metadata": {
        "colab": {
          "base_uri": "https://localhost:8080/",
          "height": 134
        },
        "id": "PMtEk4cmGH-s",
        "outputId": "75511882-802c-47d0-efce-6432524f4333"
      },
      "source": [
        "import cv2 as cv\n",
        "dims=224\n",
        "from google.colab.patches import cv2_imshow\n",
        "img=cv.imread('/content/MRLeyes/Open/s0001_01886_0_0_1_0_0_01.png')\n",
        "resized_image = cv.resize(img,(dims,dims),interpolation=cv.INTER_AREA)\n",
        "  #resized_image=resized_image/resized_image.max()\n",
        "  #resized_image=tf.cast(tf.constant(resized_image),dtype=tf.float32) \n",
        "resized_image=tf.expand_dims(resized_image,axis=0)\n",
        "d=model_0.predict(resized_image)\n",
        "cv2_imshow(img)\n",
        "print(tf.round(d))\n",
        "print(d)"
      ],
      "execution_count": null,
      "outputs": [
        {
          "output_type": "display_data",
          "data": {
            "image/png": "[encoded data removed]",
            "text/plain": [
              "<PIL.Image.Image image mode=RGB size=83x83 at 0x7F841A2C5BD0>"
            ]
          },
          "metadata": {}
        },
        {
          "output_type": "stream",
          "name": "stdout",
          "text": [
            "tf.Tensor([[1.]], shape=(1, 1), dtype=float32)\n",
            "[[0.9999995]]\n"
          ]
        }
      ]
    }
  ]
}